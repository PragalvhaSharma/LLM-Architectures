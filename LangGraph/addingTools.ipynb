{
 "cells": [
  {
   "cell_type": "code",
   "execution_count": 4,
   "metadata": {},
   "outputs": [
    {
     "data": {
      "text/plain": [
       "[{'url': 'https://www.timeanddate.com/',\n",
       "  'content': 'Find the current time and date in different locations and time zones around the world. Explore tools for calculating time differences, creating calendars, and planning events across time zones.'},\n",
       " {'url': 'https://www.calendardate.com/todays.htm',\n",
       "  'content': \"Find out the date, time zone, day number, week number, month number, leap year, daylight saving time, and more for today's date. See today's date in different formats and learn about upcoming holidays and zodiac signs.\"}]"
      ]
     },
     "execution_count": 4,
     "metadata": {},
     "output_type": "execute_result"
    }
   ],
   "source": [
    "from langchain_community.tools.tavily_search import TavilySearchResults\n",
    "\n",
    "tool = TavilySearchResults(max_results=2)\n",
    "tools = [tool]\n",
    "tool.invoke(\"whats the date today?\")"
   ]
  },
  {
   "cell_type": "code",
   "execution_count": 29,
   "metadata": {},
   "outputs": [],
   "source": [
    "from typing import Annotated\n",
    "\n",
    "from langchain_openai import ChatOpenAI\n",
    "from typing_extensions import TypedDict\n",
    "\n",
    "from langgraph.graph import StateGraph\n",
    "from langgraph.graph.message import add_messages\n",
    "\n",
    "#With Annotated  - messages is expected to be a list, and the add_messages function or callable provides additional context or metadata about this list\n",
    "class State(TypedDict):\n",
    "    messages: Annotated[list, add_messages]\n",
    "\n",
    "\n",
    "graph_builder = StateGraph(State)\n",
    "\n",
    "\n",
    "llm = ChatOpenAI(model=\"gpt-3.5-turbo\")\n",
    "# Modification: tell the LLM which tools it can call\n",
    "llm_with_tools = llm.bind_tools(tools)\n",
    "\n",
    "\n",
    "#adds message to existing state\n",
    "def chatbot(state: State):\n",
    "    return {\"messages\": [llm_with_tools.invoke(state[\"messages\"])]}\n",
    "\n",
    "\n",
    "graph_builder.add_node(\"chatbot\", chatbot)"
   ]
  },
  {
   "cell_type": "code",
   "execution_count": 30,
   "metadata": {},
   "outputs": [],
   "source": [
    "import json\n",
    "\n",
    "from langchain_core.messages import ToolMessage\n",
    "\n",
    "#Next we need to create a function to actually run the tools if they are called. \n",
    "# We'll do this by adding the tools to a new node.\n",
    "\n",
    "#Below, implement a BasicToolNode that checks the most recent message in the state and calls \n",
    "# tools if the message contains tool_calls (llm must have function calling capabilities)\n",
    "class BasicToolNode:\n",
    "    \"\"\"A node that runs the tools requested in the last AIMessage.\"\"\"\n",
    "\n",
    "    def __init__(self, tools: list) -> None:\n",
    "        self.tools_by_name = {tool.name: tool for tool in tools}\n",
    "\n",
    "    def __call__(self, inputs: dict):\n",
    "        if messages := inputs.get(\"messages\", []):\n",
    "            message = messages[-1]\n",
    "        else:\n",
    "            raise ValueError(\"No message found in input\")\n",
    "        outputs = []\n",
    "        for tool_call in message.tool_calls:\n",
    "            tool_result = self.tools_by_name[tool_call[\"name\"]].invoke(\n",
    "                tool_call[\"args\"]\n",
    "            )\n",
    "            outputs.append(\n",
    "                ToolMessage(\n",
    "                    content=json.dumps(tool_result),\n",
    "                    name=tool_call[\"name\"],\n",
    "                    tool_call_id=tool_call[\"id\"],\n",
    "                )\n",
    "            )\n",
    "        return {\"messages\": outputs}\n",
    "\n",
    "\n",
    "tool_node = BasicToolNode(tools=[tool]) #You can instead use prebuilt from langgraph.prebuilt import ToolNode\n",
    "graph_builder.add_node(\"tools\", tool_node)"
   ]
  },
  {
   "cell_type": "code",
   "execution_count": 31,
   "metadata": {},
   "outputs": [],
   "source": [
    "from typing import Literal\n",
    "\n",
    "# Defining the conditional edge: Self built function that routes to the ToolNode if the last message has tool calls. Otherwise, it routes to the end.\n",
    "\n",
    "def route_tools(\n",
    "    state: State,\n",
    ") -> Literal[\"tools\", \"__end__\"]:\n",
    "    \"\"\"Use in the conditional_edge to route to the ToolNode if the last message\n",
    "\n",
    "    has tool calls. Otherwise, route to the end.\"\"\"\n",
    "    if isinstance(state, list):\n",
    "        ai_message = state[-1]\n",
    "    elif messages := state.get(\"messages\", []):\n",
    "        ai_message = messages[-1]\n",
    "    else:\n",
    "        raise ValueError(f\"No messages found in input state to tool_edge: {state}\")\n",
    "    if hasattr(ai_message, \"tool_calls\") and len(ai_message.tool_calls) > 0:\n",
    "        return \"tools\"\n",
    "    return \"__end__\"\n",
    "\n",
    "\n",
    "# The `tools_condition` function returns \"tools\" if the chatbot asks to use a tool, and \"__end__\" if\n",
    "# it is fine directly responding. This conditional routing defines the main agent loop.\n",
    "graph_builder.add_conditional_edges(\n",
    "    \"chatbot\",\n",
    "    route_tools,\n",
    "    # The following dictionary lets you tell the graph to interpret the condition's outputs as a specific node\n",
    "    # It defaults to the identity function, but if you\n",
    "    # want to use a node named something else apart from \"tools\",\n",
    "    # You can update the value of the dictionary to something else\n",
    "    # e.g., \"tools\": \"my_tools\"\n",
    "    {\"tools\": \"tools\", \"__end__\": \"__end__\"},\n",
    ")\n",
    "# Any time a tool is called, we return to the chatbot to decide the next step\n",
    "graph_builder.add_edge(\"tools\", \"chatbot\")\n",
    "graph_builder.set_entry_point(\"chatbot\")\n",
    "graph = graph_builder.compile()"
   ]
  },
  {
   "cell_type": "code",
   "execution_count": 32,
   "metadata": {},
   "outputs": [
    {
     "data": {
      "image/jpeg": "[encoded data removed]",
      "text/plain": [
       "<IPython.core.display.Image object>"
      ]
     },
     "metadata": {},
     "output_type": "display_data"
    }
   ],
   "source": [
    "from IPython.display import Image, display\n",
    "\n",
    "try:\n",
    "    display(Image(graph.get_graph().draw_mermaid_png()))\n",
    "except:\n",
    "    # This requires some extra dependencies and is optional\n",
    "    pass"
   ]
  },
  {
   "cell_type": "code",
   "execution_count": 33,
   "metadata": {},
   "outputs": [
    {
     "name": "stdout",
     "output_type": "stream",
     "text": [
      "Assistant: Hello! How can I assist you today?\n",
      "Assistant: \n",
      "Assistant: [{\"url\": \"https://www.britannica.com/biography/Donald-Trump\", \"content\": \"Trump was the third president in U.S. history (after Andrew Johnson in 1868 and Bill Clinton in 1998) to be impeached by the U.S. House of Representatives and the only president to be impeached twice\\u2014once (in 2019) for abuse of power and obstruction of Congress in connection with the Ukraine scandal and once (in 2021) for \\u201cincitement of insurrection\\u201d in connection with the storming of the United States Capitol by a violent mob of Trump supporters as Congress met in joint session to ceremonially count electoral college votes from the 2020 presidential election. Trump was able to reduce his tax obligations to levels significantly below the average for the wealthiest Americans by claiming massive losses on many of his businesses; by deducting as business expenses costs associated with his residences and his personal aircraft; and by receiving, on the basis of business losses, a tentative refund from the IRS (Internal Revenue Service) of nearly $73 million, which more than covered the federal taxes Trump had paid on income he received from The Apprentice in 2005\\u201308. During that period Trump also purchased the New Jersey Generals, a team in the short-lived U.S. Football League; Mar-a-Lago, a 118-room mansion in Palm Beach, Florida, built in the 1920s by the cereal heiress Marjorie Merriweather Post; a 282-foot yacht, then the world\\u2019s second largest, which he named the Trump Princess; and an East Coast air-shuttle service, which he called Trump Shuttle.\\n Trump was credited as coauthor of a number of books on entrepreneurship and his business career, including Trump: The Art of the Deal (1987), Trump: The Art of the Comeback (1997), Why We Want You to Be Rich (2006), Trump 101: The Way to Success (2006), and Trump Never Give Up: How I Turned My Biggest Challenges into Success (2008). In the 1980s Trump invested heavily in the casino business in Atlantic City, where his properties eventually included Harrah\\u2019s at Trump Plaza (1984, later renamed Trump Plaza), Trump\\u2019s Castle Casino Resort (1985), and the Trump Taj Mahal (1990), then the largest casino in the world.\"}, {\"url\": \"https://www.history.com/topics/us-presidents/donald-trump\", \"content\": \"He became president of the firm in 1974 and went on to make a name for himself in the Manhattan real estate world with the construction of such high-profile projects as the Grand Hyatt New York hotel, which opened in 1980, and Trump Tower, a luxury high-rise that opened in 1983.\\n U.S. Presidents\\nStream U.S. Presidents documentaries and your favorite HISTORY series, commercial-free\\n2020 Reelection Campaign\\nIn his reelection campaign for 2020 against Democratic opponent, Joe Biden, Trump doubled down on his core issues of bringing back the economy following the devastation of the COVID-19 pandemic, boosting job growth, an \\u201cAmerica First\\u201d approach to trade and foreign policy and a hardline stance on immigration.\\n It ultimately failed to find a link between the Trump administration and the interference, concluding: \\u201cthe investigation did not establish that members of the Trump campaign conspired or coordinated with the Russian government in its election interference activities.\\u201d\\n The voter turnout\\u00a0rate in the election was the highest in over a century, and while Biden received the most votes in U.S. presidential history, Trump received the second-most.\\n In the final days of his campaign, Trump continued to declare himself the \\u201cpresident of law and order,\\u201d pushing back on calls for police reform amid the outcry over racial injustice and police brutality.\\n\"}]\n",
      "Assistant: I couldn't find the specific information about Donald Trump's birthday in the search results. Let me try another search to get the exact date of Trump's birthday.\n",
      "Assistant: [{\"url\": \"https://en.wikipedia.org/wiki/Donald_Trump\", \"content\": \"Members of the Trump administration spoke out against the conspiracy theories.[555]\\nIn July 2016, the FBI launched an investigation, codenamed Crossfire Hurricane, into possible links between Russia and the Trump campaign.[556] After Trump fired FBI director James Comey in May 2017, the FBI opened a counterintelligence investigation into Trump's personal and business dealings with Russia.[557] Crossfire Hurricane was transferred to the Mueller investigation,[558] but deputy attorney general Rod Rosenstein ended the investigation into Trump's direct ties to Russia while giving the bureau the false impression that Mueller would pursue the matter.[559][560]\\nIn May 2017, Deputy Attorney General Rod Rosenstein appointed Robert Mueller, a former director of the FBI, special counsel for the Department of Justice (DOJ), ordering him to \\\"examine 'any links and/or coordination between the Russian government' and the Trump campaign\\\". Trump finished his term with an approval rating between 29 percent and 34 percent\\u2014the lowest of any president since modern polling began\\u2014and a record-low average of 41 percent throughout his presidency.[734][736]\\nIn Gallup's annual poll asking Americans to name the man they admire the most, Trump placed second to Obama in 2017 and 2018, tied with Obama for most admired man in 2019, and was named most admired in 2020.[737][738] Since Gallup started conducting the poll in 1948, Trump is the first elected president not to be named most admired in his first year in office.[739]\\nA Gallup poll in 134 countries comparing the approval ratings of U.S. leadership between the years 2016 and 2017 found that Trump led Obama in job approval in only 29 countries, most of them non-democracies;[740] approval of U.S. leadership plummeted among allies and G7 countries. While Trump has not filed for personal bankruptcy, his over-leveraged hotel and casino businesses in Atlantic City and New York filed for Chapter 11 bankruptcy protection six times between 1991 and 2009.[123] They continued to operate while the banks restructured debt and reduced Trump's shares in the properties.[123]\\nDuring the 1980s, more than 70 banks had lent Trump $4\\u00a0billion.[124] After his corporate bankruptcies of the early 1990s most major banks, with the exception of Deutsche Bank, declined to lend to him.[125] After the January 6 United States Capitol attack, the bank decided not to do business with Trump or his company in the future.[126]\\nMedia career\\nBooks\\nUsing ghostwriters, Trump has produced up to 19 books on business, financial, or political topics under his name.[127] His first book, The Art of the Deal (1987), was a New York Times Best Seller. The House voted 232\\u2013197 to impeach Trump on January 13, making him the first U.S. president to be impeached twice.[658] Ten Republicans voted for the impeachment\\u2014the most members of a party ever to vote to impeach a president of their own party.[659]\\nOn February 13, following a five-day Senate trial, Trump was acquitted when the Senate voted 57\\u201343 for conviction, falling ten votes short of the two-thirds majority required to convict; seven Republicans joined every Democrat in voting to convict, the most bipartisan support in any Senate impeachment trial of a president or former president.[660][661] Most Republicans voted to acquit Trump, although some held him responsible but felt the Senate did not have jurisdiction over former presidents (Trump had left office on January 20; the Senate voted 56\\u201344 the trial was constitutional);[662] included in the latter group was Mitch McConnell.[663]\\nPost-presidency (2021\\u2013present)\\n The items taken in the search included 11 sets of classified documents, four of them tagged as \\\"top secret\\\" and one as \\\"top secret/SCI\\\", the highest level of classification.[697][698]\\nOn November 18, 2022, Garland appointed a special counsel, federal prosecutor Jack Smith, to oversee the federal criminal investigations into Trump retaining government property at Mar-a-Lago and examining Trump's role in the events leading up to the January 6, 2021, Capitol attack.[700][701]\\nOn December 19, 2022, the United States House Select Committee on the January 6 Attack recommended criminal charges against Trump for obstructing an official proceeding, conspiracy to defraud the United States, and inciting or assisting an insurrection.[702]\\nOn March 30, 2023, a New York grand jury indicted Trump on 34 felony counts of falsifying business records.[703][704] On April 4, he surrendered and was arrested and arraigned; he pleaded not guilty on all counts and was released.[705]\"}, {\"url\": \"https://www.newsweek.com/donald-trump-birthday-date-age-1600324\", \"content\": \"Donald Trump Says He Never Swore Oath 'to Support the Constitution'\\nThe Debate\\nArtificial Intelligence Needs Spiritual Intelligence\\nReligion Should Not Guide Artificial Intelligence\\nTop stories\\nMike Johnson's Social Security 'Death Panel' Raises Fears Over Benefits\\nDonald Trump Blames Joe Biden for Americans Not Having Kids\\nChina's State Media Issues Ominous Warning to US Over Pacific Missile Plan\\n How old was Donald Trump when he launched The Trump Organization?\\nHaving graduated from Wharton School of Finance at the University of Pennsylvania with a bachelor's degree in economics in 1968, Trump began working at his father's real estate company, Trump Management.\\n How Old Is Donald Trump and When Is His Birthday?\\nDonald Trump turned 75 on June 14 and his political action committee (PAC) has called on donors to \\\"surprise\\\" the former president with donations to mark the occasion.\\n Three years later, he became president of the firm, which owned middle-class rental housing in New York City's outer boroughs and subsequently renamed it The Trump Organization\\u2014the company had used the name in the past, along with a series of other monikers without settling on an official single formal name. The website of Save America, the PAC Trump created, encourages donors to opt-in and match any donations to the committee with a contribution for Trump's birthday on June 14.\\n\"}]\n",
      "Assistant: Donald Trump's birthday is on June 14th. He turned 75 years old on June 14th.\n",
      "Assistant: I see that you've entered \"what year.\" Could you please provide more context or clarify your question so I can assist you better?\n",
      "Assistant: Hello! How can I assist you today?\n",
      "Goodbye!\n"
     ]
    }
   ],
   "source": [
    "from langchain_core.messages import BaseMessage\n",
    "\n",
    "while True:\n",
    "    user_input = input(\"User: \")\n",
    "    if user_input.lower() in [\"quit\", \"exit\", \"q\"]:\n",
    "        print(\"Goodbye!\")\n",
    "        break\n",
    "    for event in graph.stream({\"messages\": [(\"user\", user_input)]}):\n",
    "        for value in event.values():\n",
    "            if isinstance(value[\"messages\"][-1], BaseMessage):\n",
    "                print(\"Assistant:\", value[\"messages\"][-1].content)"
   ]
  },
  {
   "cell_type": "code",
   "execution_count": 36,
   "metadata": {},
   "outputs": [],
   "source": [
    "from typing import Annotated, Union\n",
    "\n",
    "from langchain_openai import ChatOpenAI\n",
    "from langchain_community.tools.tavily_search import TavilySearchResults\n",
    "from langchain_core.messages import BaseMessage\n",
    "from typing_extensions import TypedDict\n",
    "\n",
    "from langgraph.graph import StateGraph\n",
    "from langgraph.graph.message import add_messages\n",
    "from langgraph.prebuilt import ToolNode, tools_condition\n",
    "\n",
    "\n",
    "# State Definition: State is a dictionary that holds the chatbot messages, annotated for graph message handling.\n",
    "class State(TypedDict):\n",
    "    messages: Annotated[list, add_messages]\n",
    "\n",
    "\n",
    "graph_builder = StateGraph(State)\n",
    "\n",
    "\n",
    "tool = TavilySearchResults(max_results=2)\n",
    "tools = [tool]\n",
    "llm = ChatOpenAI(model=\"gpt-3.5-turbo\")\n",
    "llm_with_tools = llm.bind_tools(tools)\n",
    "\n",
    "\n",
    "def chatbot(state: State):\n",
    "    return {\"messages\": [llm_with_tools.invoke(state[\"messages\"])]}\n",
    "\n",
    "\n",
    "graph_builder.add_node(\"chatbot\", chatbot)\n",
    "\n",
    "tool_node = ToolNode(tools=[tool])\n",
    "graph_builder.add_node(\"tools\", tool_node)\n",
    "\n",
    "graph_builder.add_conditional_edges(\n",
    "    \"chatbot\",\n",
    "    tools_condition,\n",
    ")\n",
    "# Any time a tool is called, we return to the chatbot to decide the next step\n",
    "graph_builder.add_edge(\"tools\", \"chatbot\")\n",
    "graph_builder.set_entry_point(\"chatbot\")\n",
    "graph = graph_builder.compile()"
   ]
  }
 ],
 "metadata": {
  "kernelspec": {
   "display_name": "env",
   "language": "python",
   "name": "python3"
  },
  "language_info": {
   "codemirror_mode": {
    "name": "ipython",
    "version": 3
   },
   "file_extension": ".py",
   "mimetype": "text/x-python",
   "name": "python",
   "nbconvert_exporter": "python",
   "pygments_lexer": "ipython3",
   "version": "3.10.9"
  }
 },
 "nbformat": 4,
 "nbformat_minor": 2
}
