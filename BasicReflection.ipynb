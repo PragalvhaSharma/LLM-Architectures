{
 "cells": [
  {
   "cell_type": "code",
   "execution_count": 3,
   "metadata": {},
   "outputs": [],
   "source": [
    "from langchain_core.messages import AIMessage, BaseMessage, HumanMessage\n",
    "from langchain_core.prompts import ChatPromptTemplate, MessagesPlaceholder\n",
    "from langchain_fireworks import ChatFireworks\n",
    "from langchain_openai import ChatOpenAI\n",
    "\n",
    "import os\n",
    "from dotenv import load_dotenv\n",
    "\n",
    "load_dotenv()\n",
    "openaiAPIkey = os.getenv(\"OPENAI_API_KEY\")"
   ]
  },
  {
   "cell_type": "code",
   "execution_count": 4,
   "metadata": {},
   "outputs": [
    {
     "name": "stdout",
     "output_type": "stream",
     "text": [
      "Climate change is a pressing global issue that has garnered significant attention in recent years due to its far-reaching impacts on the environment and society. Extensive research has been conducted to better understand the causes, effects, and potential solutions to this complex problem. This essay will explore key findings from climate change research and discuss the importance of addressing this issue.\n",
      "\n",
      "One of the primary areas of focus in climate change research is the role of human activities, particularly the burning of fossil fuels, in contributing to the increase in greenhouse gas emissions. Scientists have established a clear link between these emissions and the warming of the planet, leading to phenomena such as rising sea levels, more frequent extreme weather events, and disruptions to ecosystems. Through advanced modeling techniques and data analysis, researchers have been able to quantify the extent of human influence on the climate and predict future trends.\n",
      "\n",
      "Moreover, studies have shown that climate change is not just an environmental problem but also a social and economic challenge. Vulnerable communities, such as low-income populations and indigenous groups, are disproportionately affected by the consequences of a changing climate. Research has highlighted the importance of implementing equitable and sustainable solutions to mitigate these impacts and build resilience in at-risk communities. Additionally, the economic costs of inaction on climate change are becoming increasingly apparent, with potential losses in GDP, infrastructure damage, and health-related expenses.\n",
      "\n",
      "In response to these findings, researchers have been actively exploring various strategies to address climate change and transition to a more sustainable future. Renewable energy sources, such as solar and wind power, have been identified as key components of reducing greenhouse gas emissions and decreasing reliance on fossil fuels. Other promising approaches include carbon capture and storage technologies, reforestation efforts, and policy initiatives aimed at promoting energy efficiency and conservation.\n",
      "\n",
      "In conclusion, climate change research plays a crucial role in informing decision-makers and the public about the urgent need to take action on this critical issue. By continuing to advance our understanding of the causes and effects of climate change, as well as identifying innovative solutions, we can work towards building a more resilient and sustainable world for future generations. It is imperative that we prioritize and support ongoing research efforts to address climate change effectively and ensure a healthy planet for all."
     ]
    }
   ],
   "source": [
    "prompt = ChatPromptTemplate.from_messages(\n",
    "    [\n",
    "        (\n",
    "            \"system\",\n",
    "            \"You are an essay assistant tasked with writing excellent 5-paragraph essays.\"\n",
    "            \" Generate the best essay possible for the user's request.\"\n",
    "            \" If the user provides critique, respond with a revised version of your previous attempts.\",\n",
    "        ),\n",
    "        MessagesPlaceholder(variable_name=\"messages\"),\n",
    "    ]\n",
    ")\n",
    "\n",
    "llm = ChatOpenAI(api_key=openaiAPIkey, model=\"gpt-3.5-turbo\")\n",
    "\n",
    "generate = prompt | llm\n",
    "\n",
    "\n",
    "essay = \"\"\n",
    "request = HumanMessage(\n",
    "    content=\"Research on climate change\"\n",
    ")\n",
    "\n",
    "# test the single generate agent\n",
    "for chunk in generate.stream({\"messages\": [request]}):\n",
    "    print(chunk.content, end=\"\")\n",
    "    essay += chunk.content"
   ]
  },
  {
   "cell_type": "code",
   "execution_count": 5,
   "metadata": {},
   "outputs": [
    {
     "name": "stdout",
     "output_type": "stream",
     "text": [
      "\n",
      "\n",
      "\n",
      "\n",
      "============Relect===============\n",
      "\n",
      "\n",
      "\n",
      "\n",
      "Your essay provides a good overview of the importance of climate change research and its implications for society and the environment. However, there are some areas where you can improve and strengthen your discussion:\n",
      "\n",
      "1. **Depth and Detail**: While you mention key points such as the role of human activities in climate change, the social and economic impacts, and potential solutions, you could delve deeper into each of these aspects. Provide specific examples, statistics, and case studies to illustrate your points and make your arguments more compelling.\n",
      "\n",
      "2. **Citations and References**: It's important to support your claims with evidence from credible sources. Make sure to include citations for the research findings you mention in your essay, as this adds credibility to your work and allows readers to explore the topic further.\n",
      "\n",
      "3. **Balance**: While discussing the negative impacts of climate change, also consider discussing any potential positive developments or progress being made in addressing the issue. This can help provide a more balanced perspective on the topic.\n",
      "\n",
      "4. **Structure and Flow**: Ensure that your essay has a clear structure with an introduction, body paragraphs, and a conclusion. Each paragraph should focus on a specific aspect of climate change research, and there should be a logical flow between the sections.\n",
      "\n",
      "5. **Engagement with Opposing Views**: Acknowledge and address potential counterarguments or differing perspectives on climate change research. This can help strengthen your argument by demonstrating a nuanced understanding of the topic.\n",
      "\n",
      "6. **Call to Action**: Consider including a call to action in your conclusion to inspire readers to take steps to address climate change in their own lives or communities. This can help create a sense of urgency and empowerment among your audience.\n",
      "\n",
      "Overall, your essay is a good starting point, but it would benefit from more in-depth analysis, specific examples, and citations to strengthen your arguments. Keep refining your writing by incorporating these suggestions to enhance the quality and impact of your work."
     ]
    }
   ],
   "source": [
    "reflection_prompt = ChatPromptTemplate.from_messages(\n",
    "    [\n",
    "        (\n",
    "            \"system\",\n",
    "            \"You are a teacher grading an essay submission. Generate critique and recommendations for the user's submission.\"\n",
    "            \" Provide detailed recommendations, including requests for length, depth, style, etc.\",\n",
    "        ),\n",
    "        MessagesPlaceholder(variable_name=\"messages\"),\n",
    "    ]\n",
    ")\n",
    "reflect = reflection_prompt | llm\n",
    "\n",
    "print(\"\\n\\n\\n\")\n",
    "print(\"============Relect===============\")\n",
    "print(\"\\n\\n\\n\")\n",
    "\n",
    "reflection = \"\"\n",
    "for chunk in reflect.stream({\"messages\": [request, HumanMessage(content=essay)]}):\n",
    "    print(chunk.content, end=\"\")\n",
    "    reflection += chunk.content"
   ]
  },
  {
   "cell_type": "code",
   "execution_count": 6,
   "metadata": {},
   "outputs": [
    {
     "name": "stdout",
     "output_type": "stream",
     "text": [
      "Climate change research is a critical field that has shed light on the intricate relationship between human activities and the environment. Through a multitude of studies, scientists have uncovered the significant role of burning fossil fuels in the escalation of greenhouse gas emissions, which are a primary driver of global warming. For instance, research has shown that the concentration of carbon dioxide in the atmosphere has reached unprecedented levels due to human activities since the Industrial Revolution, leading to a rise in global temperatures and subsequent impacts like melting ice caps and more intense heatwaves.\n",
      "\n",
      "Furthermore, climate change research has highlighted the multifaceted nature of this issue, extending beyond environmental concerns to encompass social and economic repercussions. Studies have demonstrated that marginalized communities, including low-income populations and indigenous groups, bear the brunt of climate change effects, such as displacement due to sea-level rise and health risks from extreme weather events. In addition, research has underscored the economic toll of climate change, with estimates suggesting potential losses in GDP and infrastructure damage reaching trillions of dollars if urgent action is not taken.\n",
      "\n",
      "In response to these findings, researchers have been actively exploring a range of strategies to mitigate and adapt to climate change. Renewable energy sources, such as solar and wind power, have emerged as viable alternatives to fossil fuels, offering a sustainable path towards reducing greenhouse gas emissions. Moreover, innovative technologies like carbon capture and storage hold promise in curbing emissions from industrial processes, while reforestation efforts contribute to carbon sequestration and biodiversity conservation. Policy interventions at local, national, and international levels are also crucial in driving systemic change towards a low-carbon future.\n",
      "\n",
      "In conclusion, climate change research serves as a cornerstone in understanding the complexities of this global challenge and informing evidence-based solutions. By delving deeper into the nuances of human-induced climate change, its social and economic ramifications, and the array of mitigation options available, we can collectively work towards a more sustainable and resilient future. It is imperative to support ongoing research efforts, integrate findings into policy and practice, and engage in meaningful dialogue to address climate change comprehensively and safeguard the well-being of current and future generations."
     ]
    }
   ],
   "source": [
    "for chunk in generate.stream(\n",
    "    {\"messages\": [request, AIMessage(content=essay), HumanMessage(content=reflection)]}\n",
    "):\n",
    "    print(chunk.content, end=\"\")"
   ]
  }
 ],
 "metadata": {
  "kernelspec": {
   "display_name": "env",
   "language": "python",
   "name": "python3"
  },
  "language_info": {
   "codemirror_mode": {
    "name": "ipython",
    "version": 3
   },
   "file_extension": ".py",
   "mimetype": "text/x-python",
   "name": "python",
   "nbconvert_exporter": "python",
   "pygments_lexer": "ipython3",
   "version": "3.10.9"
  }
 },
 "nbformat": 4,
 "nbformat_minor": 2
}
