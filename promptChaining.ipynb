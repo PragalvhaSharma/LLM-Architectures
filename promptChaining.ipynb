{
 "cells": [
  {
   "cell_type": "code",
   "execution_count": null,
   "metadata": {},
   "outputs": [],
   "source": [
    "# You are a helpful assistant. Your task is to help answer a question given in a document. The first step is to extract quotes relevant \n",
    "# to the question from the document, delimited by ####. Please output the list of quotes using <quotes></quotes>. Respond with \n",
    "# \"No relevant quotes found!\" if no relevant quotes were found.\n",
    "\n",
    "\n",
    "# ####\n",
    "# {{document}}\n",
    "# ####"
   ]
  }
 ],
 "metadata": {
  "language_info": {
   "name": "python"
  }
 },
 "nbformat": 4,
 "nbformat_minor": 2
}
