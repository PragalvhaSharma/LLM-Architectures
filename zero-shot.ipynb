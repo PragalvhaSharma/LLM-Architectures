{
 "cells": [
  {
   "cell_type": "code",
   "execution_count": null,
   "metadata": {},
   "outputs": [],
   "source": [
    "# Classify the text into neutral, negative or positive. \n",
    "\n",
    "# Text: I think the vacation is okay.\n",
    "# Sentiment:\n",
    "\n",
    "\n",
    "\n",
    "# - The zero-shot prompt directly instructs the model to perform a task without any additional examples to steer it.\n",
    "\n"
   ]
  }
 ],
 "metadata": {
  "language_info": {
   "name": "python"
  }
 },
 "nbformat": 4,
 "nbformat_minor": 2
}
