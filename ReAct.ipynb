{
 "cells": [
  {
   "cell_type": "code",
   "execution_count": 3,
   "metadata": {},
   "outputs": [],
   "source": [
    "#Re - Reasoning \n",
    "#Act - Action\n",
    "#OBSERÙvATION - Reasoning and Acting\n",
    "\n",
    "#ReAct is a general paradigm that combines reasoning and acting with LLMs - Mixing chain of thought with an action"
   ]
  },
  {
   "cell_type": "code",
   "execution_count": 24,
   "metadata": {},
   "outputs": [],
   "source": [
    "\"\"\"\n",
    "Question What is the elevation range for the area that the eastern sector of the\n",
    "Colorado orogeny extends into?\n",
    "Thought 1 I need to search Colorado orogeny, find the area that the eastern sector\n",
    "of the Colorado orogeny extends into, then find the elevation range of the\n",
    "area.\n",
    "Action 1 Search[Colorado orogeny]\n",
    "Observation 1 The Colorado orogeny was an episode of mountain building (an orogeny) in\n",
    "Colorado and surrounding areas.\n",
    "Thought 2 It does not mention the eastern sector. So I need to look up eastern\n",
    "sector.\n",
    "Action 2 Lookup[eastern sector]\n",
    "Observation 2 (Result 1 / 1) The eastern sector extends into the High Plains and is called\n",
    "the Central Plains orogeny.\n",
    "Thought 3 The eastern sector of Colorado orogeny extends into the High Plains. So I\n",
    "need to search High Plains and find its elevation range.\n",
    "Action 3 Search[High Plains]\n",
    "Observation 3 High Plains refers to one of two distinct land regions\n",
    "Thought 4 I need to instead search High Plains (United States).\n",
    "Action 4 Search[High Plains (United States)]\n",
    "Observation 4 The High Plains are a subregion of the Great Plains. From east to west, the\n",
    "High Plains rise in elevation from around 1,800 to 7,000 ft (550 to 2,130\n",
    "m).[3]\n",
    "Thought 5 High Plains rise in elevation from around 1,800 to 7,000 ft, so the answer\n",
    "is 1,800 to 7,000 ft.\n",
    "Action 5 Finish[1,800 to 7,000 ft]\n",
    "\"\"\""
   ]
  }
 ],
 "metadata": {
  "kernelspec": {
   "display_name": "env",
   "language": "python",
   "name": "python3"
  },
  "language_info": {
   "codemirror_mode": {
    "name": "ipython",
    "version": 3
   },
   "file_extension": ".py",
   "mimetype": "text/x-python",
   "name": "python",
   "nbconvert_exporter": "python",
   "pygments_lexer": "ipython3",
   "version": "3.10.9"
  }
 },
 "nbformat": 4,
 "nbformat_minor": 2
}
