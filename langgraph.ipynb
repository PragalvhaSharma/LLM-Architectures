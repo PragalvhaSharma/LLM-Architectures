{
 "cells": [
  {
   "cell_type": "code",
   "execution_count": 19,
   "metadata": {},
   "outputs": [
    {
     "data": {
      "text/plain": [
       "'\\nEvery node we define will receive the current State as input and return a value that updates that state.\\nMessages will be appended to the current list\\n'"
      ]
     },
     "execution_count": 19,
     "metadata": {},
     "output_type": "execute_result"
    }
   ],
   "source": [
    "from typing import Annotated\n",
    "\n",
    "from typing_extensions import TypedDict\n",
    "\n",
    "from langgraph.graph import StateGraph\n",
    "from langgraph.graph.message import add_messages\n",
    "\n",
    "import os\n",
    "from dotenv import load_dotenv\n",
    "\n",
    "load_dotenv()\n",
    "openaiAPIkey = os.getenv(\"OPENAI_API_KEY\")\n",
    "tavilyAPIkey = os.getenv(\"TAVILY_API_KEY\")\n",
    "\n",
    "#First step \n",
    "class State(TypedDict):\n",
    "    # Messages have the type \"list\". \n",
    "    # The `add_messages` function adds ne3 m4ssages to the list\n",
    "    # (in this case, it appends messages to the list, rather than overwriting them)\n",
    "    messages: Annotated[list, add_messages] \n",
    "\n",
    "\n",
    "\n",
    "\"\"\"\n",
    "A StateGraph object defines the structure of our chatbot as a \"state machine\". We'll add nodes to represent the llm and\n",
    "functions our chatbot can call and edges to specify how the bot should transition between these functions.\n",
    " - Passing on teh state class \n",
    "\"\"\"\n",
    "graph_builder = StateGraph(State)\n",
    "\n",
    "\"\"\"\n",
    "Every node we define will receive the current State as input and return a value that updates that state.\n",
    "Messages will be appended to the current list\n",
    "\"\"\""
   ]
  },
  {
   "cell_type": "code",
   "execution_count": 20,
   "metadata": {},
   "outputs": [],
   "source": [
    "from langchain_openai import ChatOpenAI\n",
    "\n",
    "llm = ChatOpenAI(model=\"gpt-3.5-turbo\", api_key=openaiAPIkey)\n",
    "\n",
    "#Takes in teh current state as input and returns an updated messages list (updates state)\n",
    "def chatbot(state: State):\n",
    "    return {\"messages\": [llm.invoke(state[\"messages\"])]}\n",
    "\n",
    "\n",
    "# The first argument is the unique node name\n",
    "# The second argument is the function or object that will be called whenever\n",
    "# the node is used.\n",
    "graph_builder.add_node(\"chatbot\", chatbot)\n",
    "\n",
    "#This tells our graph where to start its work each time we run it.\n",
    "graph_builder.set_entry_point(\"chatbot\")\n",
    "\n",
    "#FINISH POINT\n",
    "graph_builder.set_finish_point(\"chatbot\")\n",
    "\n",
    "#. To do so, call \"compile()\" on the graph builder. This creates a \"CompiledGraph\" we can use invoke on our state.\n",
    "graph = graph_builder.compile()"
   ]
  },
  {
   "cell_type": "code",
   "execution_count": 21,
   "metadata": {},
   "outputs": [
    {
     "data": {
      "image/jpeg": "[encoded data removed]",
      "text/plain": [
       "<IPython.core.display.Image object>"
      ]
     },
     "metadata": {},
     "output_type": "display_data"
    }
   ],
   "source": [
    "from IPython.display import Image, display\n",
    "\n",
    "try:\n",
    "    display(Image(graph.get_graph().draw_mermaid_png()))\n",
    "except:\n",
    "    # This requires some extra dependencies and is optional\n",
    "    pass"
   ]
  },
  {
   "cell_type": "code",
   "execution_count": 22,
   "metadata": {},
   "outputs": [
    {
     "name": "stdout",
     "output_type": "stream",
     "text": [
      "Goodbye!\n"
     ]
    }
   ],
   "source": [
    "while True:\n",
    "    user_input = input(\"User: \")\n",
    "    if user_input.lower() in [\"quit\", \"exit\", \"q\"]:\n",
    "        print(\"Goodbye!\")\n",
    "        break\n",
    "    for event in graph.stream({\"messages\": (\"user\", user_input)}):\n",
    "        for value in event.values():\n",
    "            print(\"Assistant:\", value[\"messages\"][-1].content)"
   ]
  },
  {
   "cell_type": "code",
   "execution_count": 29,
   "metadata": {},
   "outputs": [
    {
     "data": {
      "text/plain": [
       "[{'url': 'https://www.newsweek.com/donald-trump-birthday-date-age-1600324',\n",
       "  'content': 'Donald Trump Says He Never Swore Oath \\'to Support the Constitution\\'\\nThe Debate\\nArtificial Intelligence Needs Spiritual Intelligence\\nReligion Should Not Guide Artificial Intelligence\\nTop stories\\nMike Johnson\\'s Social Security \\'Death Panel\\' Raises Fears Over Benefits\\nDonald Trump Blames Joe Biden for Americans Not Having Kids\\nChina\\'s State Media Issues Ominous Warning to US Over Pacific Missile Plan\\n How old was Donald Trump when he launched The Trump Organization?\\nHaving graduated from Wharton School of Finance at the University of Pennsylvania with a bachelor\\'s degree in economics in 1968, Trump began working at his father\\'s real estate company, Trump Management.\\n How Old Is Donald Trump and When Is His Birthday?\\nDonald Trump turned 75 on June 14 and his political action committee (PAC) has called on donors to \"surprise\" the former president with donations to mark the occasion.\\n Three years later, he became president of the firm, which owned middle-class rental housing in New York City\\'s outer boroughs and subsequently renamed it The Trump Organization—the company had used the name in the past, along with a series of other monikers without settling on an official single formal name. The website of Save America, the PAC Trump created, encourages donors to opt-in and match any donations to the committee with a contribution for Trump\\'s birthday on June 14.\\n'},\n",
       " {'url': 'https://www.history.com/topics/us-presidents/donald-trump',\n",
       "  'content': 'He became president of the firm in 1974 and went on to make a name for himself in the Manhattan real estate world with the construction of such high-profile projects as the Grand Hyatt New York hotel, which opened in 1980, and Trump Tower, a luxury high-rise that opened in 1983.\\n U.S. Presidents\\nStream U.S. Presidents documentaries and your favorite HISTORY series, commercial-free\\n2020 Reelection Campaign\\nIn his reelection campaign for 2020 against Democratic opponent, Joe Biden, Trump doubled down on his core issues of bringing back the economy following the devastation of the COVID-19 pandemic, boosting job growth, an “America First” approach to trade and foreign policy and a hardline stance on immigration.\\n It ultimately failed to find a link between the Trump administration and the interference, concluding: “the investigation did not establish that members of the Trump campaign conspired or coordinated with the Russian government in its election interference activities.”\\n The voter turnout\\xa0rate in the election was the highest in over a century, and while Biden received the most votes in U.S. presidential history, Trump received the second-most.\\n In the final days of his campaign, Trump continued to declare himself the “president of law and order,” pushing back on calls for police reform amid the outcry over racial injustice and police brutality.\\n'}]"
      ]
     },
     "execution_count": 29,
     "metadata": {},
     "output_type": "execute_result"
    }
   ],
   "source": [
    "from langchain_community.tools.tavily_search import TavilySearchResults\n",
    "\n",
    "searchTool = TavilySearchResults(max_results=2, api_key=tavilyAPIkey)\n",
    "tools = [searchTool]\n",
    "searchTool.invoke(\"when is trumps birth date\")"
   ]
  },
  {
   "cell_type": "code",
   "execution_count": null,
   "metadata": {},
   "outputs": [],
   "source": [
    "from typing import Annotated\n",
    "\n",
    "from langchain_openai import ChatAnthropic\n",
    "from typing_extensions import TypedDict\n",
    "\n",
    "from langgraph.graph import StateGraph\n",
    "from langgraph.graph.message import add_messages\n",
    "\n",
    "\n",
    "class State(TypedDict):\n",
    "    messages: Annotated[list, add_messages]\n",
    "\n",
    "\n",
    "graph_builder = StateGraph(State)\n",
    "\n",
    "\n",
    "llm = ChatAnthropic(model=\"claude-3-haiku-20240307\")\n",
    "# Modification: tell the LLM which tools it can call\n",
    "llm_with_tools = llm.bind_tools(tools)\n",
    "\n",
    "\n",
    "def chatbot(state: State):\n",
    "    return {\"messages\": [llm_with_tools.invoke(state[\"messages\"])]}\n",
    "\n",
    "\n",
    "graph_builder.add_node(\"chatbot\", chatbot)"
   ]
  }
 ],
 "metadata": {
  "kernelspec": {
   "display_name": "env",
   "language": "python",
   "name": "python3"
  },
  "language_info": {
   "codemirror_mode": {
    "name": "ipython",
    "version": 3
   },
   "file_extension": ".py",
   "mimetype": "text/x-python",
   "name": "python",
   "nbconvert_exporter": "python",
   "pygments_lexer": "ipython3",
   "version": "3.10.9"
  }
 },
 "nbformat": 4,
 "nbformat_minor": 2
}
