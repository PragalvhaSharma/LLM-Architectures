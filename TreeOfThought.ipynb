{
 "cells": [
  {
   "cell_type": "code",
   "execution_count": 9,
   "metadata": {},
   "outputs": [
    {
     "name": "stdout",
     "output_type": "stream",
     "text": [
      "sk-proj-UBi3Ttja20Wnq8FbzG1pT3BlbkFJiFDcAN8Yf3QWE080MsLL\n"
     ]
    }
   ],
   "source": [
    "import os \n",
    "from langchain_openai import ChatOpenAI\n",
    "from langchain.chains import LLMChain\n",
    "from langchain.llms import OpenAI\n",
    "from langchain.prompts import PromptTemplate\n",
    "from dotenv import load_dotenv\n",
    "\n",
    "load_dotenv()\n",
    "openaiAPIkey = os.getenv(\"OPENAI_API_KEY\")\n",
    "\n",
    "print(openaiAPIkey)"
   ]
  },
  {
   "cell_type": "code",
   "execution_count": 10,
   "metadata": {},
   "outputs": [
    {
     "data": {
      "text/plain": [
       "'\\nPROBLEM WE ARE SOLVING:\\nIn the usual CoT (Chain of Thoughts) approach, LLMs tend to progress linearly in their thinking towards problem solving, \\nand if an error occurs along the way, they tend to proceed along that erroneous criterion.\\n\\nIn the ToT (Tree of Thoughts) approach, LLMs evaluate themselves at each stage of thought and stop inefficient \\napproaches early, switching to alternative methods.\\n\\n'"
      ]
     },
     "execution_count": 10,
     "metadata": {},
     "output_type": "execute_result"
    }
   ],
   "source": [
    "'''\n",
    "PROBLEM WE ARE SOLVING:\n",
    "In the usual CoT (Chain of Thoughts) approach, LLMs tend to progress linearly in their thinking towards problem solving, \n",
    "and if an error occurs along the way, they tend to proceed along that erroneous criterion.\n",
    "\n",
    "In the ToT (Tree of Thoughts) approach, LLMs evaluate themselves at each stage of thought and stop inefficient \n",
    "approaches early, switching to alternative methods.\n",
    "\n",
    "\n",
    "My Notes:\n",
    "- Token generation takes too long\n",
    "- Too much time to generate tokens and have them be checked each time\n",
    "- The same llm scoring and assigning confidence level is a terrible idea (Need a better alternative)\n",
    "\n",
    "'''\n"
   ]
  },
  {
   "cell_type": "code",
   "execution_count": 11,
   "metadata": {},
   "outputs": [],
   "source": [
    "#BrainStorm PHAZE\n",
    "template =\"\"\"\n",
    "Step1 :\n",
    " \n",
    "I have a problem related to {input}. Could you brainstorm three distinct solutions? Please consider a variety of factors such as {perfect_factors}\n",
    "A:\n",
    "\"\"\"\n",
    "\n",
    "prompt = PromptTemplate(\n",
    "    input_variables=[\"input\",\"perfect_factors\"],\n",
    "    template = template                      \n",
    ")\n",
    "\n",
    "chain1 = LLMChain(\n",
    "    llm=ChatOpenAI(temperature=0, model=\"gpt-4\"),\n",
    "    prompt=prompt,\n",
    "    output_key=\"solutions\"\n",
    ")\n"
   ]
  },
  {
   "cell_type": "code",
   "execution_count": 12,
   "metadata": {},
   "outputs": [],
   "source": [
    "\n",
    "#Evaluation PHAZE\n",
    "template =\"\"\"\n",
    "Step 2:\n",
    "\n",
    "For each of the three proposed solutions, evaluate their potential. Consider their pros and cons, initial effort needed, implementation difficulty, potential challenges, and the expected outcomes. Assign a probability of success and a confidence level to each option based on these factors\n",
    "\n",
    "{solutions}\n",
    "\n",
    "A:\"\"\"\n",
    "\n",
    "prompt = PromptTemplate(\n",
    "    input_variables=[\"solutions\"],\n",
    "    template = template                      \n",
    ")\n",
    "\n",
    "chain2 = LLMChain(\n",
    "    llm=ChatOpenAI(temperature=0, model=\"gpt-4\"),\n",
    "    prompt=prompt,\n",
    "    output_key=\"review\"\n",
    ")\n"
   ]
  },
  {
   "cell_type": "code",
   "execution_count": 13,
   "metadata": {},
   "outputs": [],
   "source": [
    "#Expansion Phase\n",
    "\n",
    "template =\"\"\"\n",
    "Step 3:\n",
    "\n",
    "For each solution, deepen the thought process. Generate potential scenarios, strategies for implementation, any necessary partnerships or resources, and how potential obstacles might be overcome. Also, consider any potential unexpected outcomes and how they might be handled.\n",
    "\n",
    "{review}\n",
    "\n",
    "A:\"\"\"\n",
    "\n",
    "prompt = PromptTemplate(\n",
    "    input_variables=[\"review\"],\n",
    "    template = template                      \n",
    ")\n",
    "\n",
    "chain3 = LLMChain(\n",
    "    llm=ChatOpenAI(temperature=0, model=\"gpt-4\"),\n",
    "    prompt=prompt,\n",
    "    output_key=\"deepen_thought_process\"\n",
    ")\n"
   ]
  },
  {
   "cell_type": "code",
   "execution_count": 14,
   "metadata": {},
   "outputs": [],
   "source": [
    "#Decision Phase\n",
    "\n",
    "template =\"\"\"\n",
    "Step 4:\n",
    "\n",
    "Based on the evaluations and scenarios, rank the solutions in order of promise. Provide a justification for each ranking and offer any final thoughts or considerations for each solution\n",
    "{deepen_thought_process}\n",
    "\n",
    "A:\"\"\"\n",
    "\n",
    "prompt = PromptTemplate(\n",
    "    input_variables=[\"deepen_thought_process\"],\n",
    "    template = template                      \n",
    ")\n",
    "\n",
    "chain4 = LLMChain(\n",
    "    llm=ChatOpenAI(temperature=0, model=\"gpt-4\"),\n",
    "    prompt=prompt,\n",
    "    output_key=\"ranked_solutions\"\n",
    ")\n"
   ]
  },
  {
   "cell_type": "code",
   "execution_count": 16,
   "metadata": {},
   "outputs": [
    {
     "name": "stdout",
     "output_type": "stream",
     "text": [
      "\n",
      "\n",
      "\u001b[1m> Entering new SequentialChain chain...\u001b[0m\n",
      "\n",
      "\u001b[1m> Finished chain.\u001b[0m\n",
      "{'input': 'human colonization of Mars', 'perfect_factors': 'The distance between Earth and Mars is very large, making regular resupply difficult', 'ranked_solutions': 'Self-Sustaining Colony on Mars:\\nPros: This solution would ensure the long-term survival of the colony by making it self-sufficient. It would also be a significant achievement in human space exploration.\\nCons: This is a highly ambitious solution that would require significant resources and technological advancements. It would also require a long-term commitment and could face numerous unforeseen challenges.\\nInitial Effort: High. This would require significant resources and technological advancements.\\nImplementation Difficulty: High. This is a highly ambitious solution that would require a long-term commitment and could face numerous unforeseen challenges.\\nPotential Challenges: Developing the necessary technology, securing the necessary funding and resources, dealing with the logistical challenges of operating in space, and ensuring the long-term survival of the colony.\\nExpected Outcomes: If successful, this would be a significant achievement in human space exploration and would ensure the long-term survival of the colony.\\nProbability of Success: Medium.\\nConfidence Level: Medium.\\n\\nB: Terraforming Mars:\\nPros: This would make Mars more habitable for humans and could potentially allow for a larger population and more diverse ecosystem.\\nCons: This is a highly ambitious and long-term solution that would require significant resources and technological advancements. It is also uncertain whether terraforming is even possible.\\nInitial Effort: High. This would require significant resources and technological advancements.\\nImplementation Difficulty: High. This is a highly ambitious and long-term solution that would require a long-term commitment and could face numerous unforeseen challenges.\\nPotential Challenges: Developing the necessary technology, securing the necessary funding and resources, dealing with the logistical challenges of operating in space, and the uncertainty of whether terraforming is even possible.\\nExpected Outcomes: If successful, this would make Mars more habitable for humans and could potentially allow for a larger population and more diverse ecosystem.\\nProbability of Success: Low.\\nConfidence Level: Low.\\n\\nRanking:\\n1. Robotic Resupply Missions\\n2. Self-Sustaining Colony on Mars\\n3. Terraforming Mars\\n\\nJustification: Robotic Resupply Missions are ranked first due to their high probability of success and high confidence level. The Self-Sustaining Colony on Mars is ranked second due to its medium probability of success and medium confidence level. Terraforming Mars is ranked last due to its low probability of success and low confidence level.'}\n"
     ]
    }
   ],
   "source": [
    "#PUTTING IT ALL TOGETHER\n",
    "from langchain.chains import SequentialChain\n",
    "\n",
    "#Sequential chain connects the chains together - - - -  The output of one chain becomes the input to the next chain.\n",
    "\n",
    "overall_chain = SequentialChain(\n",
    "    chains=[chain1, chain2, chain3, chain4],\n",
    "    input_variables=[\"input\", \"perfect_factors\"],\n",
    "    output_variables=[\"ranked_solutions\"],\n",
    "    verbose=True\n",
    ")\n",
    "\n",
    "print(overall_chain({\"input\":\"human colonization of Mars\", \"perfect_factors\":\"The distance between Earth and Mars is very large, making regular resupply difficult\"}))"
   ]
  }
 ],
 "metadata": {
  "kernelspec": {
   "display_name": "env",
   "language": "python",
   "name": "python3"
  },
  "language_info": {
   "codemirror_mode": {
    "name": "ipython",
    "version": 3
   },
   "file_extension": ".py",
   "mimetype": "text/x-python",
   "name": "python",
   "nbconvert_exporter": "python",
   "pygments_lexer": "ipython3",
   "version": "3.10.9"
  }
 },
 "nbformat": 4,
 "nbformat_minor": 2
}
