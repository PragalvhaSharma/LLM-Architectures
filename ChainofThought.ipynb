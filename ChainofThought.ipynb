{
 "cells": [
  {
   "cell_type": "code",
   "execution_count": 1,
   "metadata": {},
   "outputs": [
    {
     "name": "stdout",
     "output_type": "stream",
     "text": [
      "sk-proj-UBi3Ttja20Wnq8FbzG1pT3BlbkFJiFDcAN8Yf3QWE080MsLL\n"
     ]
    }
   ],
   "source": [
    "import os \n",
    "from langchain_openai import ChatOpenAI\n",
    "from dotenv import load_dotenv\n",
    "\n",
    "load_dotenv()\n",
    "openaiAPIkey = os.getenv(\"OPENAI_API_KEY\")\n",
    "\n",
    "print(openaiAPIkey)"
   ]
  },
  {
   "cell_type": "code",
   "execution_count": 13,
   "metadata": {},
   "outputs": [
    {
     "name": "stdout",
     "output_type": "stream",
     "text": [
      "The second name of the basketball team known for its rich history and legacy in the lead actress's hometown is likely the \"Bulls.\" This is a common nickname for the Chicago Bulls, a famous basketball team with a rich history and legacy in the sport.\n",
      "The second name of the basketball team known for its rich history and legacy in the lead actress's hometown is the \"Lakers.\"\n",
      "The second name of the basketball team known for its rich history and legacy in the lead actress's hometown is likely the \"Bulls.\" This is a common nickname for the Chicago Bulls, a famous basketball team with a rich history and legacy in the sport.\n",
      "The second name of the basketball team known for its rich history and legacy in the lead actress's hometown is the \"Lakers.\"\n",
      "The second name of the basketball team known for its rich history and legacy in the lead actress's hometown is the \"Lakers.\"\n"
     ]
    }
   ],
   "source": [
    "model = \"gpt-3.5-turbo-0125\"\n",
    "llm = ChatOpenAI(temperature=0.1, model=model, api_key=openaiAPIkey)\n",
    "\n",
    "problem = \"\"\"\n",
    "Alex, a 35-year-old film enthusiast from Brazil, is watching a documentary about iconic movie soundtracks. \n",
    "He becomes captivated by a song from a film where a bride seeks revenge. Intrigued by the lead actress, \n",
    "he investigates her background and travels to her hometown. Once there, Alex’s attention shifts to the local \n",
    "sports culture. He learns about a famous basketball team known for its rich history and legacy. What is the \n",
    "second name of this basketball team?\n",
    "\"\"\"\n",
    "\n",
    "query = f\"\"\"Problem statement: \n",
    "{problem}\n",
    "Can you solve this problem?\n",
    "\"\"\"\n",
    "\n",
    "#Note there - - -  is randomness in the output - - Without any strict logic applied to it\n",
    "print(llm.invoke(query).content)\n",
    "print(llm.invoke(query).content)\n",
    "print(llm.invoke(query).content)\n",
    "print(llm.invoke(query).content)\n",
    "print(llm.invoke(query).content)\n"
   ]
  },
  {
   "cell_type": "code",
   "execution_count": 12,
   "metadata": {},
   "outputs": [
    {
     "name": "stdout",
     "output_type": "stream",
     "text": [
      "Sub-problems to solve:\n",
      "\n",
      "1. Identify the film with a bride seeking revenge that features the song Alex is captivated by.\n",
      "2. Determine the lead actress in the film.\n",
      "3. Investigate the background of the lead actress to find out her hometown.\n",
      "4. Identify the hometown of the lead actress.\n",
      "5. Shift attention to the local sports culture in the hometown.\n",
      "6. Research famous basketball teams in the hometown known for their rich history and legacy.\n",
      "7. Determine the name of the basketball team that fits the description.\n",
      "\n",
      "Solution:\n",
      "\n",
      "1. The film with a bride seeking revenge that features the song Alex is captivated by is \"Kill Bill: Volume 1.\"\n",
      "2. The lead actress in \"Kill Bill: Volume 1\" is Uma Thurman.\n",
      "3. Uma Thurman's background reveals that she was born in Boston, Massachusetts, USA.\n",
      "4. The hometown of Uma Thurman is Boston, Massachusetts, USA.\n",
      "5. In Boston, Massachusetts, the local sports culture is prominent, particularly in basketball.\n",
      "6. One of the famous basketball teams in Boston known for its rich history and legacy is the Boston Celtics.\n",
      "7. The second name of the Boston Celtics is \"C's.\"\n",
      "\n",
      "Therefore, the second name of the basketball team in Boston known for its rich history and legacy is the Boston Celtics, also known as the \"C's.\"\n"
     ]
    }
   ],
   "source": [
    "#Adding chain of thought \n",
    "cot_query = f\"\"\"Problem statement: \n",
    "{problem}\n",
    "First, list systematically and in detail all the problems in this problem \n",
    "that need to be solved before we can arrive at the correct answer. \n",
    "Then, solve each sub problem using the answers of previous problems \n",
    "and reach a final solution.\n",
    "\"\"\"\n",
    "\n",
    "print(llm.invoke(cot_query).content)\n",
    "\n",
    "#More importantly - - - Answers are consistent and logical(for the most part"
   ]
  },
  {
   "cell_type": "code",
   "execution_count": 7,
   "metadata": {},
   "outputs": [
    {
     "name": "stdout",
     "output_type": "stream",
     "text": [
      "The last letters of the words in \"New Hampshire\" are \"w e e\". When concatenated, they form the word \"wee\".\n"
     ]
    }
   ],
   "source": [
    "problem = \"\"\"\n",
    "take the last letters of the words in \"New Hampshire\" and concatenate them.\n",
    "\"\"\"\n",
    "\n",
    "query = f\"\"\"Problem statement: \n",
    "{problem}\n",
    "Can you solve this problem?\n",
    "\"\"\"\n",
    "\n",
    "print(llm.invoke(query).content)\n"
   ]
  },
  {
   "cell_type": "code",
   "execution_count": 10,
   "metadata": {},
   "outputs": [
    {
     "name": "stdout",
     "output_type": "stream",
     "text": [
      "Sub-problems to solve:\n",
      "\n",
      "1. Identify the words in \"New Hampshire\" that need to be considered for taking the last letters.\n",
      "2. Determine the last letter of each word.\n",
      "3. Concatenate the last letters of the words in the correct order.\n",
      "\n",
      "Solution:\n",
      "\n",
      "1. The words in \"New Hampshire\" are \"New\" and \"Hampshire\".\n",
      "2. The last letters of each word are \"w\" and \"e\" respectively.\n",
      "3. Concatenating the last letters in order gives us the final solution: \"we\".\n"
     ]
    }
   ],
   "source": [
    "cot_query = f\"\"\"Problem statement: \n",
    "{problem}\n",
    "First, list systematically and in detail all the problems in this problem that need to be solved before we \n",
    "can arrive at the correct answer. Then, solve each sub problem using the answers of previous problems and reach a \n",
    "final solution.\n",
    "\"\"\"\n",
    "\n",
    "print(llm.invoke(cot_query).content)\n"
   ]
  },
  {
   "cell_type": "code",
   "execution_count": null,
   "metadata": {},
   "outputs": [],
   "source": [
    "# Break down the problem: The prompt is structured in a way that guides the model to decompose the problem into a series of logical steps. \n",
    "# Step-by-step reasoning: The model then processes each step individually, articulating the reasoning process that leads from one step to the next.\n",
    "# Conclude: Finally, the model combines the insights from each step to arrive at a final solution.\n",
    "\n",
    "\n",
    "#Here, the LLM was tasked with breaking down complex problems into smaller, manageable parts and solving each sequentially, using information from previous answers. It successfully arrived at the correct solution.\n",
    "\n",
    "#Better with larger models - - - - Terrible outputs with smaller ones"
   ]
  }
 ],
 "metadata": {
  "kernelspec": {
   "display_name": "env",
   "language": "python",
   "name": "python3"
  },
  "language_info": {
   "codemirror_mode": {
    "name": "ipython",
    "version": 3
   },
   "file_extension": ".py",
   "mimetype": "text/x-python",
   "name": "python",
   "nbconvert_exporter": "python",
   "pygments_lexer": "ipython3",
   "version": "3.10.9"
  }
 },
 "nbformat": 4,
 "nbformat_minor": 2
}
